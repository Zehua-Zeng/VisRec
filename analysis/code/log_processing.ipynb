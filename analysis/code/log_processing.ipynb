{
 "cells": [
  {
   "cell_type": "code",
   "execution_count": 1,
   "metadata": {},
   "outputs": [],
   "source": [
    "import os, json\n",
    "import pandas as pd\n",
    "\n",
    "dataset_dict = {\n",
    "    'a': 'movies',\n",
    "    'b': 'birdstrikes'\n",
    "}\n",
    "\n",
    "oracle_dict = {\n",
    "    'c': 'compassql',\n",
    "    'd': 'dziban'\n",
    "}\n",
    "\n",
    "search_algorithm_dict = {\n",
    "    'e': 'bfs',\n",
    "    'f': 'dfs'\n",
    "}\n",
    "\n",
    "task_dict = {\n",
    "    'p1': '1. Find Extremum',\n",
    "    'p2': '2. Retrieve Value',\n",
    "    'p3': '3. Prediction',\n",
    "    'p4': '4. Exploration'\n",
    "}\n",
    "\n",
    "response_to_score_dict = {\n",
    "    'sdisagree': -2,\n",
    "    'disagree': -1,\n",
    "    'neutral': 0,\n",
    "    'agree': 1,\n",
    "    'sagree': 2\n",
    "}"
   ]
  },
  {
   "cell_type": "code",
   "execution_count": 2,
   "metadata": {},
   "outputs": [
    {
     "ename": "FileNotFoundError",
     "evalue": "[Errno 2] No such file or directory: './logs/'",
     "output_type": "error",
     "traceback": [
      "\u001b[0;31m---------------------------------------------------------------------------\u001b[0m",
      "\u001b[0;31mFileNotFoundError\u001b[0m                         Traceback (most recent call last)",
      "\u001b[0;32m<ipython-input-2-8aec0d124f1a>\u001b[0m in \u001b[0;36m<module>\u001b[0;34m\u001b[0m\n\u001b[1;32m      1\u001b[0m \u001b[0mpath_to_json\u001b[0m \u001b[0;34m=\u001b[0m \u001b[0;34m'./logs/'\u001b[0m\u001b[0;34m\u001b[0m\u001b[0;34m\u001b[0m\u001b[0m\n\u001b[0;32m----> 2\u001b[0;31m \u001b[0mjson_files\u001b[0m \u001b[0;34m=\u001b[0m \u001b[0;34m[\u001b[0m\u001b[0mpos_json\u001b[0m \u001b[0;32mfor\u001b[0m \u001b[0mpos_json\u001b[0m \u001b[0;32min\u001b[0m \u001b[0mos\u001b[0m\u001b[0;34m.\u001b[0m\u001b[0mlistdir\u001b[0m\u001b[0;34m(\u001b[0m\u001b[0mpath_to_json\u001b[0m\u001b[0;34m)\u001b[0m \u001b[0;32mif\u001b[0m \u001b[0mpos_json\u001b[0m\u001b[0;34m.\u001b[0m\u001b[0mendswith\u001b[0m\u001b[0;34m(\u001b[0m\u001b[0;34m'_ptask.json'\u001b[0m\u001b[0;34m)\u001b[0m\u001b[0;34m]\u001b[0m\u001b[0;34m\u001b[0m\u001b[0;34m\u001b[0m\u001b[0m\n\u001b[0m\u001b[1;32m      3\u001b[0m \u001b[0;31m# print(json_files)\u001b[0m\u001b[0;34m\u001b[0m\u001b[0;34m\u001b[0m\u001b[0;34m\u001b[0m\u001b[0m\n\u001b[1;32m      4\u001b[0m jsons_data = pd.DataFrame(columns=['participant_id',\n\u001b[1;32m      5\u001b[0m                                    \u001b[0;34m'dataset'\u001b[0m\u001b[0;34m,\u001b[0m\u001b[0;34m\u001b[0m\u001b[0;34m\u001b[0m\u001b[0m\n",
      "\u001b[0;31mFileNotFoundError\u001b[0m: [Errno 2] No such file or directory: './logs/'"
     ]
    }
   ],
   "source": [
    "path_to_json = './logs/'\n",
    "json_files = [pos_json for pos_json in os.listdir(path_to_json) if pos_json.endswith('_ptask.json')]\n",
    "# print(json_files) \n",
    "jsons_data = pd.DataFrame(columns=['participant_id',\n",
    "                                   'dataset',\n",
    "                                   'oracle',\n",
    "                                   'search',\n",
    "                                   'condition',\n",
    "                                   'task',\n",
    "                                   'confidence-udata', \n",
    "                                   'confidence-ans', \n",
    "                                   'efficiency',\n",
    "                                   'ease-of-use', \n",
    "                                   'utility', \n",
    "                                   'overall'])\n",
    "\n",
    "for index, js in enumerate(json_files):\n",
    "    with open(os.path.join(path_to_json, js)) as json_file:\n",
    "        json_text = json.load(json_file)\n",
    "        \n",
    "        split_filename = js.split('_')\n",
    "        \n",
    "        participant_id = split_filename[0].replace('partcipant','')\n",
    "        experimental_setup = split_filename[1]\n",
    "        dataset = dataset_dict[experimental_setup[0]]\n",
    "        \n",
    "        oracle = oracle_dict[experimental_setup[1]]\n",
    "        search = search_algorithm_dict[experimental_setup[2]]\n",
    "        \n",
    "        condition = oracle+\"_\"+search\n",
    "        \n",
    "        task = task_dict[split_filename[2]]\n",
    "        \n",
    "        confidence_udata = response_to_score_dict[json_text['confidence-udata']]\n",
    "        confidence_ans = response_to_score_dict[json_text['confidence-ans']]\n",
    "        efficiency = response_to_score_dict[json_text['efficiency']]\n",
    "        ease_of_use = response_to_score_dict[json_text['ease-of-use']]\n",
    "        utility = response_to_score_dict[json_text['utility']]\n",
    "        overall = response_to_score_dict[json_text['overall']]\n",
    "        \n",
    "        row = [participant_id, dataset, oracle, search, condition, task, confidence_udata, confidence_ans, efficiency, ease_of_use, utility, overall]\n",
    "        jsons_data.loc[index] = row\n",
    "# now that we have the pertinent json data in our DataFrame let's look at it\n",
    "print(jsons_data)\n",
    "jsons_data.to_csv('processed_ptask_responses.csv', index=False)"
   ]
  },
  {
   "cell_type": "code",
   "execution_count": 3,
   "metadata": {},
   "outputs": [
    {
     "ename": "FileNotFoundError",
     "evalue": "[Errno 2] No such file or directory: './logs/'",
     "output_type": "error",
     "traceback": [
      "\u001b[0;31m---------------------------------------------------------------------------\u001b[0m",
      "\u001b[0;31mFileNotFoundError\u001b[0m                         Traceback (most recent call last)",
      "\u001b[0;32m<ipython-input-3-2f1be2ac9c6c>\u001b[0m in \u001b[0;36m<module>\u001b[0;34m\u001b[0m\n\u001b[1;32m      1\u001b[0m \u001b[0mpath_to_json\u001b[0m \u001b[0;34m=\u001b[0m \u001b[0;34m'./logs/'\u001b[0m\u001b[0;34m\u001b[0m\u001b[0;34m\u001b[0m\u001b[0m\n\u001b[0;32m----> 2\u001b[0;31m \u001b[0mjson_files\u001b[0m \u001b[0;34m=\u001b[0m \u001b[0;34m[\u001b[0m\u001b[0mpos_json\u001b[0m \u001b[0;32mfor\u001b[0m \u001b[0mpos_json\u001b[0m \u001b[0;32min\u001b[0m \u001b[0mos\u001b[0m\u001b[0;34m.\u001b[0m\u001b[0mlistdir\u001b[0m\u001b[0;34m(\u001b[0m\u001b[0mpath_to_json\u001b[0m\u001b[0;34m)\u001b[0m \u001b[0;32mif\u001b[0m \u001b[0mpos_json\u001b[0m\u001b[0;34m.\u001b[0m\u001b[0mendswith\u001b[0m\u001b[0;34m(\u001b[0m\u001b[0;34m'_logs.json'\u001b[0m\u001b[0;34m)\u001b[0m\u001b[0;34m]\u001b[0m\u001b[0;34m\u001b[0m\u001b[0;34m\u001b[0m\u001b[0m\n\u001b[0m\u001b[1;32m      3\u001b[0m \u001b[0;31m# print(json_files)\u001b[0m\u001b[0;34m\u001b[0m\u001b[0;34m\u001b[0m\u001b[0;34m\u001b[0m\u001b[0m\n\u001b[1;32m      4\u001b[0m jsons_data = pd.DataFrame(columns=['participant_id',\n\u001b[1;32m      5\u001b[0m                                    \u001b[0;34m'dataset'\u001b[0m\u001b[0;34m,\u001b[0m\u001b[0;34m\u001b[0m\u001b[0;34m\u001b[0m\u001b[0m\n",
      "\u001b[0;31mFileNotFoundError\u001b[0m: [Errno 2] No such file or directory: './logs/'"
     ]
    }
   ],
   "source": [
    "\n",
    "path_to_json = './logs/'\n",
    "json_files = [pos_json for pos_json in os.listdir(path_to_json) if pos_json.endswith('_logs.json')]\n",
    "# print(json_files) \n",
    "jsons_data = pd.DataFrame(columns=['participant_id',\n",
    "                                   'dataset',\n",
    "                                   'oracle',\n",
    "                                   'search',\n",
    "                                   'condition',\n",
    "                                   'task',\n",
    "                                   'time'])\n",
    "\n",
    "for index, js in enumerate(json_files):\n",
    "    with open(os.path.join(path_to_json, js)) as json_file:\n",
    "        json_text = json.load(json_file)\n",
    "        split_filename = js.split('_')\n",
    "        \n",
    "        participant_id = split_filename[0]\n",
    "        experimental_setup = split_filename[1]\n",
    "        dataset = dataset_dict[experimental_setup[0]]\n",
    "        oracle = oracle_dict[experimental_setup[1]]\n",
    "        search = search_algorithm_dict[experimental_setup[2]]\n",
    "        condition = oracle+\"_\"+search\n",
    "\n",
    "        task = task_dict[split_filename[2]]\n",
    "        time = json_text[len(json_text)-1]['Time'] - json_text[0]['Time']\n",
    "        row = [participant_id, dataset, oracle, search, condition, task, time]\n",
    "\n",
    "        jsons_data.loc[index] = row\n",
    "            \n",
    "print(jsons_data)\n",
    "jsons_data.to_csv('task_times.csv', index=False)"
   ]
  },
  {
   "cell_type": "code",
   "execution_count": 4,
   "metadata": {},
   "outputs": [
    {
     "ename": "FileNotFoundError",
     "evalue": "[Errno 2] No such file or directory: './pilots/'",
     "output_type": "error",
     "traceback": [
      "\u001b[0;31m---------------------------------------------------------------------------\u001b[0m",
      "\u001b[0;31mFileNotFoundError\u001b[0m                         Traceback (most recent call last)",
      "\u001b[0;32m<ipython-input-4-0e12810e600f>\u001b[0m in \u001b[0;36m<module>\u001b[0;34m\u001b[0m\n\u001b[1;32m     10\u001b[0m \u001b[0;34m\u001b[0m\u001b[0m\n\u001b[1;32m     11\u001b[0m \u001b[0mpath_to_json\u001b[0m \u001b[0;34m=\u001b[0m \u001b[0;34m'./pilots/'\u001b[0m\u001b[0;34m\u001b[0m\u001b[0;34m\u001b[0m\u001b[0m\n\u001b[0;32m---> 12\u001b[0;31m \u001b[0mjson_files\u001b[0m \u001b[0;34m=\u001b[0m \u001b[0;34m[\u001b[0m\u001b[0mpos_json\u001b[0m \u001b[0;32mfor\u001b[0m \u001b[0mpos_json\u001b[0m \u001b[0;32min\u001b[0m \u001b[0mos\u001b[0m\u001b[0;34m.\u001b[0m\u001b[0mlistdir\u001b[0m\u001b[0;34m(\u001b[0m\u001b[0mpath_to_json\u001b[0m\u001b[0;34m)\u001b[0m \u001b[0;32mif\u001b[0m \u001b[0mpos_json\u001b[0m\u001b[0;34m.\u001b[0m\u001b[0mendswith\u001b[0m\u001b[0;34m(\u001b[0m\u001b[0;34m'_logs.json'\u001b[0m\u001b[0;34m)\u001b[0m\u001b[0;34m]\u001b[0m\u001b[0;34m\u001b[0m\u001b[0;34m\u001b[0m\u001b[0m\n\u001b[0m\u001b[1;32m     13\u001b[0m \u001b[0;31m# print(json_files)\u001b[0m\u001b[0;34m\u001b[0m\u001b[0;34m\u001b[0m\u001b[0;34m\u001b[0m\u001b[0m\n\u001b[1;32m     14\u001b[0m jsons_data = pd.DataFrame(columns=['participant_id',\n",
      "\u001b[0;31mFileNotFoundError\u001b[0m: [Errno 2] No such file or directory: './pilots/'"
     ]
    }
   ],
   "source": [
    "import os, json\n",
    "import pandas as pd\n",
    "\n",
    "pilot_task_dict = {\n",
    "    '1': '1. Find Extremum',\n",
    "    '2': '2. Retrieve Value',\n",
    "    '3': '3. Prediction',\n",
    "    '4': '4. Exploration'\n",
    "}\n",
    "\n",
    "path_to_json = './pilots/'\n",
    "json_files = [pos_json for pos_json in os.listdir(path_to_json) if pos_json.endswith('_logs.json')]\n",
    "# print(json_files) \n",
    "jsons_data = pd.DataFrame(columns=['participant_id',\n",
    "                                   'dataset',\n",
    "                                   'oracle',\n",
    "                                   'search',\n",
    "                                   'task',\n",
    "                                   'time'])\n",
    "\n",
    "for index, js in enumerate(json_files):\n",
    "    with open(os.path.join(path_to_json, js)) as json_file:\n",
    "        json_text = json.load(json_file)\n",
    "        split_filename = js.split('_')\n",
    "        \n",
    "        participant_id = split_filename[0]\n",
    "        if(participant_id in ['pilot3', 'pilot4', 'pilot5']):\n",
    "            experimental_setup = split_filename[1]\n",
    "            dataset = dataset_dict[experimental_setup[0]]\n",
    "            oracle = oracle_dict[experimental_setup[1]]\n",
    "            search = search_algorithm_dict[experimental_setup[2]]\n",
    "\n",
    "            task = pilot_task_dict[split_filename[2][1]]\n",
    "\n",
    "            time = json_text[len(json_text)-1]['Time'] - json_text[0]['Time']\n",
    "            row = [participant_id, dataset, oracle, search, task, time]\n",
    "\n",
    "            jsons_data.loc[index] = row\n",
    "jsons_data.sort_values(by=['participant_id', 'task'], inplace=True)\n",
    "print(jsons_data)\n",
    "print(jsons_data['time'].mean())\n",
    "print(jsons_data['time'].std())\n",
    "for task in ['1. Find Extremum', '2. Retrieve Value', '3. Prediction', '4. Exploration']:\n",
    "    print(\"===== \" + task)\n",
    "    df = jsons_data.loc[jsons_data['task'] == task]\n",
    "    print(df['time'].mean())\n",
    "    print(df['time'].std())\n",
    "jsons_data.to_csv('pilot_times.csv', index=False)"
   ]
  },
  {
   "cell_type": "code",
   "execution_count": 7,
   "metadata": {},
   "outputs": [],
   "source": [
    "df = pd.read_csv(\"./processed_completion_time_split.csv\")\n",
    "df['condition'] = df['oracle']+\"_\"+df['search']\n",
    "df.to_csv('processed_completion_time.csv', index=False)"
   ]
  },
  {
   "cell_type": "code",
   "execution_count": null,
   "metadata": {},
   "outputs": [],
   "source": []
  }
 ],
 "metadata": {
  "kernelspec": {
   "display_name": "Python 3",
   "language": "python",
   "name": "python3"
  },
  "language_info": {
   "codemirror_mode": {
    "name": "ipython",
    "version": 3
   },
   "file_extension": ".py",
   "mimetype": "text/x-python",
   "name": "python",
   "nbconvert_exporter": "python",
   "pygments_lexer": "ipython3",
   "version": "3.8.5"
  }
 },
 "nbformat": 4,
 "nbformat_minor": 4
}
